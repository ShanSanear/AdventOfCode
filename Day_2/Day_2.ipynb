{
 "cells": [
  {
   "cell_type": "code",
   "execution_count": 11,
   "metadata": {
    "collapsed": true
   },
   "outputs": [],
   "source": [
    "import typing\n",
    "from enum import Enum\n",
    "from pathlib import Path\n",
    "\n",
    "\n",
    "class Commands(str, Enum):\n",
    "    FORWARD = \"forward\"\n",
    "    DOWN = \"down\"\n",
    "    UP = \"up\"\n",
    "\n",
    "\n",
    "class Position(typing.NamedTuple):\n",
    "    depth: int\n",
    "    horizontal_position: int\n",
    "    aim: int = 0"
   ]
  },
  {
   "cell_type": "code",
   "execution_count": 18,
   "outputs": [],
   "source": [
    "input_file_text = Path(r\"M:\\Python\\Projects\\AdventOfCode\\Day_2\\Day_2_input.txt\").read_text(encoding='utf-8')"
   ],
   "metadata": {
    "collapsed": false,
    "pycharm": {
     "name": "#%%\n"
    }
   }
  },
  {
   "cell_type": "code",
   "execution_count": 8,
   "outputs": [
    {
     "name": "stdout",
     "output_type": "stream",
     "text": [
      "Answer: 1947824\n"
     ]
    }
   ],
   "source": [
    "def calculate_position(commands: list[str]) -> Position:\n",
    "    depth = 0\n",
    "    horizontal_position = 0\n",
    "    for command in commands:\n",
    "        match command.split(\" \"):\n",
    "            case [Commands.FORWARD, value]:\n",
    "                # print(f\"Forward: {value}\")\n",
    "                horizontal_position += int(value)\n",
    "            case [Commands.DOWN, value]:\n",
    "                # print(f\"Down: {value}\")\n",
    "                depth += int(value)\n",
    "            case [Commands.UP, value]:\n",
    "                # print(f\"Up: {value}\")\n",
    "                depth -= int(value)\n",
    "            case _:\n",
    "                print(f\"Default case, value: {command} not understood\")\n",
    "    # print(f\"Final depth: {depth}, Final horizontal position: {horizontal_position}\")\n",
    "    return Position(depth=depth, horizontal_position=horizontal_position)\n",
    "\n",
    "\n",
    "position = calculate_position(input_file_text.strip().split(\"\\n\"))\n",
    "print(f\"Answer: {position.depth * position.horizontal_position}\")"
   ],
   "metadata": {
    "collapsed": false,
    "pycharm": {
     "name": "#%%\n"
    }
   }
  },
  {
   "cell_type": "code",
   "execution_count": 13,
   "outputs": [],
   "source": [
    "def calculate_position_with_aim(commands: list[str]) -> Position:\n",
    "    depth = 0\n",
    "    horizontal_position = 0\n",
    "    aim = 0\n",
    "    for command in commands:\n",
    "        match command.split(\" \"):\n",
    "            case [Commands.FORWARD, value]:\n",
    "                # print(f\"Forward: {value}\")\n",
    "                horizontal_position += int(value)\n",
    "                depth += aim * int(value)\n",
    "            case [Commands.DOWN, value]:\n",
    "                # print(f\"Down: {value}\")\n",
    "                aim += int(value)\n",
    "            case [Commands.UP, value]:\n",
    "                # print(f\"Up: {value}\")\n",
    "                aim -= int(value)\n",
    "            case _:\n",
    "                print(f\"Default case, value: {command} not understood\")\n",
    "    return Position(depth=depth, horizontal_position=horizontal_position, aim=aim)"
   ],
   "metadata": {
    "collapsed": false,
    "pycharm": {
     "name": "#%%\n"
    }
   }
  },
  {
   "cell_type": "code",
   "execution_count": 17,
   "outputs": [],
   "source": [
    "def test_calculate_position_with_aim():\n",
    "    commands = [\"forward 5\", \"down 5\", \"forward 8\", \"up 3\", \"down 8\", \"forward 2\"]\n",
    "    result_position = calculate_position_with_aim(commands)\n",
    "    result = result_position.horizontal_position * result_position.depth\n",
    "    expected = 900\n",
    "    assert result == expected, f\"Result: {result}, expected: {expected}\"\n",
    "\n",
    "\n",
    "test_calculate_position_with_aim()"
   ],
   "metadata": {
    "collapsed": false,
    "pycharm": {
     "name": "#%%\n"
    }
   }
  },
  {
   "cell_type": "code",
   "execution_count": 19,
   "outputs": [
    {
     "name": "stdout",
     "output_type": "stream",
     "text": [
      "Answer: 1813062561\n"
     ]
    }
   ],
   "source": [
    "position = calculate_position_with_aim(input_file_text.strip().split(\"\\n\"))\n",
    "print(f\"Answer: {position.depth * position.horizontal_position}\")"
   ],
   "metadata": {
    "collapsed": false,
    "pycharm": {
     "name": "#%%\n"
    }
   }
  }
 ],
 "metadata": {
  "kernelspec": {
   "display_name": "Python 3",
   "language": "python",
   "name": "python3"
  },
  "language_info": {
   "codemirror_mode": {
    "name": "ipython",
    "version": 2
   },
   "file_extension": ".py",
   "mimetype": "text/x-python",
   "name": "python",
   "nbconvert_exporter": "python",
   "pygments_lexer": "ipython2",
   "version": "2.7.6"
  }
 },
 "nbformat": 4,
 "nbformat_minor": 0
}