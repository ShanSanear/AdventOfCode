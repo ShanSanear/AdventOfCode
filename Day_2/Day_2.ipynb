{
 "cells": [
  {
   "cell_type": "code",
   "execution_count": 1,
   "metadata": {
    "collapsed": true
   },
   "outputs": [],
   "source": [
    "import typing\n",
    "from pathlib import Path\n",
    "\n",
    "input_file_text = Path(r\"M:\\Python\\Projects\\AdventOfCode\\Day_2\\Day_2_1_input.txt\").read_text(encoding='utf-8')"
   ]
  },
  {
   "cell_type": "code",
   "execution_count": 24,
   "outputs": [
    {
     "name": "stdout",
     "output_type": "stream",
     "text": [
      "Answer: 1947824\n"
     ]
    }
   ],
   "source": [
    "import typing\n",
    "from enum import Enum\n",
    "\n",
    "\n",
    "class Commands(str, Enum):\n",
    "    FORWARD = \"forward\"\n",
    "    DOWN = \"down\"\n",
    "    UP = \"up\"\n",
    "\n",
    "class Position(typing.NamedTuple):\n",
    "    depth: int\n",
    "    horizontal_position: int\n",
    "\n",
    "def calculate_position(commands: list[str]) -> Position:\n",
    "    depth = 0\n",
    "    horizontal_position = 0\n",
    "    for command in commands:\n",
    "        match command.split(\" \"):\n",
    "            case [Commands.FORWARD, value]:\n",
    "                # print(f\"Forward: {value}\")\n",
    "                horizontal_position += int(value)\n",
    "            case [Commands.DOWN, value]:\n",
    "                # print(f\"Down: {value}\")\n",
    "                depth += int(value)\n",
    "            case [Commands.UP, value]:\n",
    "                # print(f\"Up: {value}\")\n",
    "                depth -= int(value)\n",
    "            case _:\n",
    "                print(f\"Default case, value: {command} not understood\")\n",
    "    # print(f\"Final depth: {depth}, Final horizontal position: {horizontal_position}\")\n",
    "    return Position(depth=depth, horizontal_position=horizontal_position)\n",
    "\n",
    "\n",
    "position = calculate_position(input_file_text.strip().split(\"\\n\"))\n",
    "print(f\"Answer: {position.depth * position.horizontal_position}\")"
   ],
   "metadata": {
    "collapsed": false,
    "pycharm": {
     "name": "#%%\n"
    }
   }
  }
 ],
 "metadata": {
  "kernelspec": {
   "display_name": "Python 3",
   "language": "python",
   "name": "python3"
  },
  "language_info": {
   "codemirror_mode": {
    "name": "ipython",
    "version": 2
   },
   "file_extension": ".py",
   "mimetype": "text/x-python",
   "name": "python",
   "nbconvert_exporter": "python",
   "pygments_lexer": "ipython2",
   "version": "2.7.6"
  }
 },
 "nbformat": 4,
 "nbformat_minor": 0
}