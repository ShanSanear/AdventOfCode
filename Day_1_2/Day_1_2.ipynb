{
 "cells": [
  {
   "cell_type": "code",
   "execution_count": 1,
   "metadata": {
    "collapsed": true
   },
   "outputs": [],
   "source": [
    "from pathlib import Path\n",
    "\n",
    "input_file_text = Path(r\"M:\\Python\\Projects\\AdventOfCode\\Day_1_2\\Day_1_2_input.txt\").read_text(encoding='utf-8')"
   ]
  },
  {
   "cell_type": "code",
   "execution_count": 2,
   "outputs": [],
   "source": [
    "values = [int(val) for val in input_file_text.split()]"
   ],
   "metadata": {
    "collapsed": false,
    "pycharm": {
     "name": "#%%\n"
    }
   }
  },
  {
   "cell_type": "code",
   "execution_count": 18,
   "outputs": [],
   "source": [
    "from collections import deque\n",
    "def measure_depth_3_size_window(input_values):\n",
    "    window = deque()\n",
    "    sums = []\n",
    "    for val in input_values:\n",
    "        window.append(val)\n",
    "        if len(window) < 3:\n",
    "            continue\n",
    "        sums.append(sum(window))\n",
    "        window.popleft()\n",
    "    return sums\n",
    "\n",
    "def test_measure_depth_3_size_window():\n",
    "    vals = [1, 2, 3, 4, 3]\n",
    "    expected = [6, 9, 10]\n",
    "    result = measure_depth_3_size_window(vals)\n",
    "    assert result  == expected, f\"Reusult: {result} while expected: {expected}\"\n",
    "test_measure_depth_3_size_window()"
   ],
   "metadata": {
    "collapsed": false,
    "pycharm": {
     "name": "#%%\n"
    }
   }
  },
  {
   "cell_type": "code",
   "execution_count": 19,
   "outputs": [],
   "source": [
    "def count_increase_in_depth(values):\n",
    "    previous = float(\"inf\")\n",
    "    count = 0\n",
    "    for val in values:\n",
    "        if val > previous:\n",
    "            count += 1\n",
    "        previous = val\n",
    "    print(count)"
   ],
   "metadata": {
    "collapsed": false,
    "pycharm": {
     "name": "#%%\n"
    }
   }
  },
  {
   "cell_type": "code",
   "execution_count": 20,
   "outputs": [
    {
     "name": "stdout",
     "output_type": "stream",
     "text": [
      "1743\n"
     ]
    }
   ],
   "source": [
    "count_increase_in_depth(measure_depth_3_size_window(values))"
   ],
   "metadata": {
    "collapsed": false,
    "pycharm": {
     "name": "#%%\n"
    }
   }
  }
 ],
 "metadata": {
  "kernelspec": {
   "display_name": "Python 3",
   "language": "python",
   "name": "python3"
  },
  "language_info": {
   "codemirror_mode": {
    "name": "ipython",
    "version": 2
   },
   "file_extension": ".py",
   "mimetype": "text/x-python",
   "name": "python",
   "nbconvert_exporter": "python",
   "pygments_lexer": "ipython2",
   "version": "2.7.6"
  }
 },
 "nbformat": 4,
 "nbformat_minor": 0
}