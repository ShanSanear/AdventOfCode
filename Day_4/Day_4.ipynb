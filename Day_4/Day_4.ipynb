{
 "cells": [
  {
   "cell_type": "code",
   "execution_count": 42,
   "metadata": {
    "collapsed": true
   },
   "outputs": [],
   "source": [
    "from pathlib import Path\n",
    "from dataclasses import dataclass\n",
    "import itertools"
   ]
  },
  {
   "cell_type": "code",
   "execution_count": 55,
   "outputs": [],
   "source": [
    "def get_input_data():\n",
    "    input_file = Path(r\"M:\\Python\\Projects\\AdventOfCode\\Day_4\\Day_4_input.txt\")\n",
    "    return input_file.read_text().strip().split('\\n')\n",
    "\n",
    "test_input_data = [\n",
    "        \"7,4,9,5,11,17,23,2,0,14,21,24,10,16,13,6,15,25,12,22,18,20,8,19,3,26,1\",\n",
    "        \"\",\n",
    "        \"22 13 17 11  0\",\n",
    "        \"8  2 23  4 24\",\n",
    "        \"21  9 14 16  7\",\n",
    "        \"6 10  3 18  5\",\n",
    "        \"1 12 20 15 19\",\n",
    "        \"\",\n",
    "        \"3 15  0  2 22\",\n",
    "        \"9 18 13 17  5\",\n",
    "        \"19  8  7 25 23\",\n",
    "        \"20 11 10 24  4\",\n",
    "        \"14 21 16 12  6\",\n",
    "        \"\",\n",
    "        \"14 21 17 24  4\",\n",
    "        \"10 16 15  9 19\",\n",
    "        \"18  8 23 26 20\",\n",
    "        \"22 11 13  6  5\",\n",
    "        \"2  0 12  3  7\",\n",
    "    ]\n",
    "\n",
    "@dataclass\n",
    "class PointInformation:\n",
    "    value: int\n",
    "    is_checked: bool = False\n",
    "\n",
    "\n",
    "def _check_if_won(points_info: list[list[PointInformation]]):\n",
    "    return any(all((point_info.is_checked for point_info in row)) for row in points_info)\n",
    "\n",
    "\n",
    "@dataclass\n",
    "class Board:\n",
    "    points: list[list[PointInformation]]\n",
    "    used_numbers: set[int]\n",
    "\n",
    "    def __contains__(self, item):\n",
    "        return item in self.used_numbers\n",
    "\n",
    "    def set_value_checked(self, value: int):\n",
    "        for row in self.points:\n",
    "            for point_info in row:\n",
    "                if point_info.value == value:\n",
    "                    point_info.is_checked = True\n",
    "\n",
    "    def check_if_won(self):\n",
    "        won_by_rows = self._won_by_rows()\n",
    "        won_by_columns = self._won_by_columns()\n",
    "        return won_by_rows or won_by_columns\n",
    "\n",
    "    def _won_by_rows(self):\n",
    "        return _check_if_won(self.points)\n",
    "\n",
    "    def _won_by_columns(self):\n",
    "        return _check_if_won(self._transposed_points())\n",
    "\n",
    "    def _transposed_points(self):\n",
    "        return [*zip(*self.points)]\n",
    "\n",
    "    def sum_of_unmarked(self):\n",
    "        calculated_sum = sum(\n",
    "            point_info.value for point_info in itertools.chain.from_iterable(self.points) if not point_info.is_checked)\n",
    "        return calculated_sum\n",
    "\n",
    "\n",
    "def get_drawn_numbers(input_data):\n",
    "    line_with_drawn_numbers = input_data[0]\n",
    "    return [\n",
    "        int(number) for number in line_with_drawn_numbers.split(\",\")\n",
    "    ]\n",
    "\n",
    "\n",
    "def get_boards(input_data):\n",
    "    board_data = []\n",
    "    board_number = 0\n",
    "    current_points: list[list[PointInformation]] = []\n",
    "    current_set_of_numbers = set()\n",
    "    for line in input_data[2:]:\n",
    "        if not line.strip():\n",
    "            board_data.append(Board(current_points, current_set_of_numbers))\n",
    "            current_points = []\n",
    "            current_set_of_numbers = set()\n",
    "            continue\n",
    "        tmp = []\n",
    "        for point_value in line.strip().split():\n",
    "            point_value = int(point_value)\n",
    "            tmp.append(PointInformation(value=point_value))\n",
    "            current_set_of_numbers.add(point_value)\n",
    "        current_points.append(tmp)\n",
    "    board_data.append(Board(current_points, current_set_of_numbers))\n",
    "    return board_data\n",
    "\n",
    "\n",
    "def get_first_winning_board_score(input_data):\n",
    "    drawn_numbers = get_drawn_numbers(input_data)\n",
    "    boards = get_boards(input_data)\n",
    "    for number in drawn_numbers:\n",
    "        for idx, board in enumerate(boards):\n",
    "            if number in board:\n",
    "                board.set_value_checked(number)\n",
    "                if board.check_if_won():\n",
    "                    return board.sum_of_unmarked() * number\n",
    "\n",
    "\n",
    "def test_bingo_board():\n",
    "\n",
    "    winning_board_score = get_first_winning_board_score(test_input_data)\n",
    "    expected_winning_score = 4512\n",
    "    assert expected_winning_score == winning_board_score, f\"{expected_winning_score =}, {winning_board_score =}\"\n",
    "\n",
    "\n",
    "test_bingo_board()"
   ],
   "metadata": {
    "collapsed": false,
    "pycharm": {
     "name": "#%%\n"
    }
   }
  },
  {
   "cell_type": "code",
   "execution_count": 54,
   "outputs": [
    {
     "name": "stdout",
     "output_type": "stream",
     "text": [
      "72770\n"
     ]
    }
   ],
   "source": [
    "def calculate_winnings():\n",
    "    input_data = get_input_data()\n",
    "    print(get_first_winning_board_score(input_data))\n",
    "calculate_winnings()"
   ],
   "metadata": {
    "collapsed": false,
    "pycharm": {
     "name": "#%%\n"
    }
   }
  },
  {
   "cell_type": "code",
   "execution_count": 63,
   "outputs": [
    {
     "name": "stdout",
     "output_type": "stream",
     "text": [
      "13912\n"
     ]
    }
   ],
   "source": [
    "def get_last_winning_board_score(input_data):\n",
    "    drawn_numbers = get_drawn_numbers(input_data)\n",
    "    boards = get_boards(input_data)\n",
    "    for number in drawn_numbers:\n",
    "        for idx, board in enumerate(boards):\n",
    "            if number in board:\n",
    "                board.set_value_checked(number)\n",
    "                other_boards_won = all(other_boards.check_if_won() for other_boards in filter(lambda x: x != board, boards))\n",
    "                if board.check_if_won() and other_boards_won:\n",
    "                    return board.sum_of_unmarked() * number\n",
    "\n",
    "def test_calculate_last_winnig_board_score():\n",
    "    expected_score = 1924\n",
    "    score = get_last_winning_board_score(test_input_data)\n",
    "    assert score == expected_score, f\"{score = }, {expected_score = }\"\n",
    "\n",
    "test_calculate_last_winnig_board_score()\n",
    "def calculate_last_winnings():\n",
    "    input_data = get_input_data()\n",
    "    print(get_last_winning_board_score(input_data))\n",
    "calculate_last_winnings()"
   ],
   "metadata": {
    "collapsed": false,
    "pycharm": {
     "name": "#%%\n"
    }
   }
  }
 ],
 "metadata": {
  "kernelspec": {
   "display_name": "Python 3",
   "language": "python",
   "name": "python3"
  },
  "language_info": {
   "codemirror_mode": {
    "name": "ipython",
    "version": 2
   },
   "file_extension": ".py",
   "mimetype": "text/x-python",
   "name": "python",
   "nbconvert_exporter": "python",
   "pygments_lexer": "ipython2",
   "version": "2.7.6"
  }
 },
 "nbformat": 4,
 "nbformat_minor": 0
}