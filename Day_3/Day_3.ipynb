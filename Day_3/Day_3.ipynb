{
 "cells": [
  {
   "cell_type": "code",
   "execution_count": 61,
   "metadata": {
    "collapsed": true
   },
   "outputs": [],
   "source": [
    "from pathlib import Path\n",
    "from collections import Counter\n"
   ]
  },
  {
   "cell_type": "code",
   "execution_count": 62,
   "outputs": [],
   "source": [
    "def get_input_data():\n",
    "    input_file = Path(r\"M:\\Python\\Projects\\AdventOfCode\\Day_3\\Day_3_input.txt\")\n",
    "    return input_file.read_text().strip().split('\\n')\n"
   ],
   "metadata": {
    "collapsed": false,
    "pycharm": {
     "name": "#%%\n"
    }
   }
  },
  {
   "cell_type": "code",
   "execution_count": 63,
   "outputs": [],
   "source": [
    "def transpose_input_data(input_data):\n",
    "    return [*zip(*input_data)]"
   ],
   "metadata": {
    "collapsed": false,
    "pycharm": {
     "name": "#%%\n"
    }
   }
  },
  {
   "cell_type": "code",
   "execution_count": 66,
   "outputs": [],
   "source": [
    "def get_counters_based_on_input_data(input_data):\n",
    "    transposed_input_data = transpose_input_data(input_data)\n",
    "    counters = [Counter(entry) for entry in transposed_input_data]\n",
    "    return counters"
   ],
   "metadata": {
    "collapsed": false,
    "pycharm": {
     "name": "#%%\n"
    }
   }
  },
  {
   "cell_type": "code",
   "execution_count": 67,
   "outputs": [],
   "source": [
    "def calculate_power_consumption():\n",
    "    input_data = get_input_data()\n",
    "    counters = get_counters_based_on_input_data(input_data)\n",
    "    gamma_rate_bin = ''.join((counter.most_common()[0][0] for counter in counters))\n",
    "    epsilon_rate_bin = ''.join((counter.most_common()[-1][0] for counter in counters))\n",
    "    gamma_rate = int(gamma_rate_bin, 2)\n",
    "    epsilon_rate = int(epsilon_rate_bin, 2)\n",
    "    power_consumption = gamma_rate * epsilon_rate\n",
    "    return power_consumption"
   ],
   "metadata": {
    "collapsed": false,
    "pycharm": {
     "name": "#%%\n"
    }
   }
  },
  {
   "cell_type": "code",
   "execution_count": 68,
   "outputs": [
    {
     "name": "stdout",
     "output_type": "stream",
     "text": [
      "3148794\n"
     ]
    }
   ],
   "source": [
    "print(calculate_power_consumption())"
   ],
   "metadata": {
    "collapsed": false,
    "pycharm": {
     "name": "#%%\n"
    }
   }
  },
  {
   "cell_type": "code",
   "execution_count": 74,
   "outputs": [],
   "source": [
    "def get_oxygen_generator_rating(input_data: list[str], position: int) -> int:\n",
    "    if len(input_data) == 1:\n",
    "        return int(input_data[0], 2)\n",
    "    counters = get_counters_based_on_input_data(input_data)\n",
    "    counter_for_position = counters[position]\n",
    "    if counter_for_position['1'] != counter_for_position['0']:\n",
    "        bit_to_check_against = counter_for_position.most_common()[0][0]\n",
    "    else:\n",
    "        bit_to_check_against = '1'\n",
    "    filtered_input_data = [input_line for input_line in input_data if input_line[position] == bit_to_check_against]\n",
    "    return get_oxygen_generator_rating(filtered_input_data, position+1)"
   ],
   "metadata": {
    "collapsed": false,
    "pycharm": {
     "name": "#%%\n"
    }
   }
  },
  {
   "cell_type": "code",
   "execution_count": 75,
   "outputs": [],
   "source": [
    "def test_get_oxygen_generator_rating():\n",
    "    input_data = [\n",
    "        '00100',\n",
    "        '11110',\n",
    "        '10110',\n",
    "        '10111',\n",
    "        '10101',\n",
    "        '01111',\n",
    "        '00111',\n",
    "        '11100',\n",
    "        '10000',\n",
    "        '11001',\n",
    "        '00010',\n",
    "        '01010',\n",
    "    ]\n",
    "    expected_oxygen_rating = 23\n",
    "    assert expected_oxygen_rating == get_oxygen_generator_rating(input_data, 0)\n",
    "test_get_oxygen_generator_rating()"
   ],
   "metadata": {
    "collapsed": false,
    "pycharm": {
     "name": "#%%\n"
    }
   }
  },
  {
   "cell_type": "code",
   "execution_count": 76,
   "outputs": [],
   "source": [
    "def get_co2_scrubber_rating(input_data: list[str], position: int) -> int:\n",
    "    if len(input_data) == 1:\n",
    "        return int(input_data[0], 2)\n",
    "    counters = get_counters_based_on_input_data(input_data)\n",
    "    counter_for_position = counters[position]\n",
    "    if counter_for_position['1'] != counter_for_position['0']:\n",
    "        bit_to_check_against = counter_for_position.most_common()[-1][0]\n",
    "    else:\n",
    "        bit_to_check_against = '0'\n",
    "    filtered_input_data = [input_line for input_line in input_data if input_line[position] == bit_to_check_against]\n",
    "    return get_co2_scrubber_rating(filtered_input_data, position+1)"
   ],
   "metadata": {
    "collapsed": false,
    "pycharm": {
     "name": "#%%\n"
    }
   }
  },
  {
   "cell_type": "code",
   "execution_count": 77,
   "outputs": [],
   "source": [
    "def test_get_co2_scrubber_rating():\n",
    "    input_data = [\n",
    "        '00100',\n",
    "        '11110',\n",
    "        '10110',\n",
    "        '10111',\n",
    "        '10101',\n",
    "        '01111',\n",
    "        '00111',\n",
    "        '11100',\n",
    "        '10000',\n",
    "        '11001',\n",
    "        '00010',\n",
    "        '01010',\n",
    "    ]\n",
    "    expected_co2_scrubber_rating = 10\n",
    "    assert expected_co2_scrubber_rating == get_co2_scrubber_rating(input_data, 0)\n",
    "test_get_co2_scrubber_rating()"
   ],
   "metadata": {
    "collapsed": false,
    "pycharm": {
     "name": "#%%\n"
    }
   }
  },
  {
   "cell_type": "code",
   "execution_count": null,
   "outputs": [],
   "source": [],
   "metadata": {
    "collapsed": false,
    "pycharm": {
     "name": "#%%\n"
    }
   }
  }
 ],
 "metadata": {
  "kernelspec": {
   "display_name": "Python 3",
   "language": "python",
   "name": "python3"
  },
  "language_info": {
   "codemirror_mode": {
    "name": "ipython",
    "version": 2
   },
   "file_extension": ".py",
   "mimetype": "text/x-python",
   "name": "python",
   "nbconvert_exporter": "python",
   "pygments_lexer": "ipython2",
   "version": "2.7.6"
  }
 },
 "nbformat": 4,
 "nbformat_minor": 0
}