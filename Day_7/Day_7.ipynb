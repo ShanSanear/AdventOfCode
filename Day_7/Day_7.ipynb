{
 "cells": [
  {
   "cell_type": "code",
   "execution_count": 1,
   "metadata": {
    "collapsed": true
   },
   "outputs": [],
   "source": [
    "from pathlib import Path\n",
    "\n",
    "\n",
    "def get_input_data():\n",
    "    input_file = Path(r\"M:\\Python\\Projects\\AdventOfCode\\Day_7\\Day_7_input.txt\")\n",
    "    return [int(val) for val in input_file.read_text().strip().split(',')]\n",
    "\n",
    "\n",
    "def get_test_input_data():\n",
    "    return [16, 1, 2, 0, 4, 2, 7, 1, 2, 14]"
   ]
  },
  {
   "cell_type": "code",
   "execution_count": 19,
   "outputs": [],
   "source": [
    "from functools import cache\n",
    "\n",
    "\n",
    "@cache\n",
    "def lookup_fuel_consumption(distance):\n",
    "    return sum((i for i in range(1, distance+1)))\n",
    "\n",
    "def get_lowest_amount_of_fuel_needed(horizontal_positions: list[int], get_fuel_consumption=False):\n",
    "    min_pos = min(horizontal_positions)\n",
    "    max_pos = max(horizontal_positions)\n",
    "    mapping = dict(zip(range(min_pos, max_pos+1), [0] * (max_pos - min_pos + 1), strict=True))\n",
    "    for end_position in mapping:\n",
    "        for position in horizontal_positions:\n",
    "            distance = abs(end_position - position)\n",
    "            if not get_fuel_consumption:\n",
    "                mapping[end_position] += distance\n",
    "            else:\n",
    "                mapping[end_position] += lookup_fuel_consumption(distance)\n",
    "    return min(mapping.values())\n",
    "\n",
    "\n",
    "def test_get_lowest_amount_of_fuel_needed():\n",
    "    input_data =get_test_input_data()\n",
    "    expected_result = 37\n",
    "    result = get_lowest_amount_of_fuel_needed(input_data)\n",
    "    assert result == expected_result, f\"{expected_result = } {result = }\"\n",
    "\n",
    "def test_get_lowest_amount_of_fuel_needed_v2():\n",
    "    input_data =get_test_input_data()\n",
    "    expected_result = 168\n",
    "    result = get_lowest_amount_of_fuel_needed(input_data, get_fuel_consumption=True)\n",
    "    assert result == expected_result, f\"{expected_result = } {result = }\"\n",
    "\n",
    "test_get_lowest_amount_of_fuel_needed()\n",
    "test_get_lowest_amount_of_fuel_needed_v2()"
   ],
   "metadata": {
    "collapsed": false,
    "pycharm": {
     "name": "#%%\n"
    }
   }
  },
  {
   "cell_type": "code",
   "execution_count": 20,
   "outputs": [
    {
     "data": {
      "text/plain": "364898"
     },
     "execution_count": 20,
     "metadata": {},
     "output_type": "execute_result"
    }
   ],
   "source": [
    "get_lowest_amount_of_fuel_needed(get_input_data())"
   ],
   "metadata": {
    "collapsed": false,
    "pycharm": {
     "name": "#%%\n"
    }
   }
  },
  {
   "cell_type": "code",
   "execution_count": 21,
   "outputs": [
    {
     "data": {
      "text/plain": "104149091"
     },
     "execution_count": 21,
     "metadata": {},
     "output_type": "execute_result"
    }
   ],
   "source": [
    "get_lowest_amount_of_fuel_needed(get_input_data(), True)"
   ],
   "metadata": {
    "collapsed": false,
    "pycharm": {
     "name": "#%%\n"
    }
   }
  }
 ],
 "metadata": {
  "kernelspec": {
   "display_name": "Python 3",
   "language": "python",
   "name": "python3"
  },
  "language_info": {
   "codemirror_mode": {
    "name": "ipython",
    "version": 2
   },
   "file_extension": ".py",
   "mimetype": "text/x-python",
   "name": "python",
   "nbconvert_exporter": "python",
   "pygments_lexer": "ipython2",
   "version": "2.7.6"
  }
 },
 "nbformat": 4,
 "nbformat_minor": 0
}