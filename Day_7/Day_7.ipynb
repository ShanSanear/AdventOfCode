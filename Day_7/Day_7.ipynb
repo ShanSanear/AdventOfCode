{
 "cells": [
  {
   "cell_type": "code",
   "execution_count": 1,
   "metadata": {
    "collapsed": true
   },
   "outputs": [],
   "source": [
    "from pathlib import Path\n",
    "\n",
    "\n",
    "def get_input_data():\n",
    "    input_file = Path(r\"M:\\Python\\Projects\\AdventOfCode\\Day_7\\Day_7_input.txt\")\n",
    "    return [int(val) for val in input_file.read_text().strip().split(',')]\n",
    "\n",
    "\n",
    "def get_test_input_data():\n",
    "    return [16, 1, 2, 0, 4, 2, 7, 1, 2, 14]"
   ]
  }
 ],
 "metadata": {
  "kernelspec": {
   "display_name": "Python 3",
   "language": "python",
   "name": "python3"
  },
  "language_info": {
   "codemirror_mode": {
    "name": "ipython",
    "version": 2
   },
   "file_extension": ".py",
   "mimetype": "text/x-python",
   "name": "python",
   "nbconvert_exporter": "python",
   "pygments_lexer": "ipython2",
   "version": "2.7.6"
  }
 },
 "nbformat": 4,
 "nbformat_minor": 0
}