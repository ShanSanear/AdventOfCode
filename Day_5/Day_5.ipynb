{
 "cells": [
  {
   "cell_type": "code",
   "execution_count": 1,
   "metadata": {
    "collapsed": true
   },
   "outputs": [],
   "source": [
    "from pathlib import Path\n",
    "from typing import NamedTuple, List"
   ]
  },
  {
   "cell_type": "code",
   "execution_count": 2,
   "outputs": [],
   "source": [
    "def get_input_data():\n",
    "    input_file = Path(r\"M:\\Python\\Projects\\AdventOfCode\\Day_5\\Day_5_input.txt\")\n",
    "    return input_file.read_text().strip().split('\\n')\n",
    "\n",
    "\n",
    "def get_test_input_data():\n",
    "    return [\n",
    "        \"0,9 -> 5,9\",\n",
    "        \"8,0 -> 0,8\",\n",
    "        \"9,4 -> 3,4\",\n",
    "        \"2,2 -> 2,1\",\n",
    "        \"7,0 -> 7,4\",\n",
    "        \"6,4 -> 2,0\",\n",
    "        \"0,9 -> 2,9\",\n",
    "        \"3,4 -> 1,4\",\n",
    "        \"0,0 -> 8,8\",\n",
    "        \"5,5 -> 8,2\",\n",
    "    ]"
   ],
   "metadata": {
    "collapsed": false,
    "pycharm": {
     "name": "#%%\n"
    }
   }
  },
  {
   "cell_type": "code",
   "execution_count": 12,
   "outputs": [],
   "source": [
    "class Point(NamedTuple):\n",
    "    x: int\n",
    "    y: int\n",
    "\n",
    "\n",
    "def get_line_by_y(point_a, point_b):\n",
    "    lower_x = min(point_a.x, point_b.x)\n",
    "    higher_x = max(point_a.x, point_b.x)\n",
    "    return [Point(x, point_a.y) for x in range(lower_x, higher_x + 1)]\n",
    "    # print(f\"{point_a} and {point_b} are on the same line by Y\")\n",
    "    # print(f\"{line = }\")\n",
    "\n",
    "\n",
    "def get_line_by_x(point_a, point_b):\n",
    "    lower_y = min(point_a.y, point_b.y)\n",
    "    higher_y = max(point_a.y, point_b.y)\n",
    "    # print(f\"{point_a} and {point_b} are on the same line by X\")\n",
    "    # print(f\"{line = }\")\n",
    "    return [Point(point_a.x, y) for y in range(lower_y, higher_y + 1)]\n",
    "\n",
    "\n",
    "def get_max_size(input_data: list[str]):\n",
    "    max_size = -1\n",
    "    for line in input_data:\n",
    "        point_a, point_b = [Point(*[int(val) for val in point_data.split(\",\")]) for point_data in line.split(\" -> \")]\n",
    "        max_size = max(*point_a, *point_b, max_size)\n",
    "    return max_size\n",
    "\n",
    "\n",
    "def get_all_points(input_data: list[str]) -> list[list[Point]]:\n",
    "    points_pairs: list[list[Point]] = []\n",
    "    for line in input_data:\n",
    "        points_pairs.append([Point(*[int(val) for val in point_data.split(\",\")]) for point_data in line.split(\" -> \")])\n",
    "    return points_pairs\n",
    "\n",
    "\n",
    "def get_horizontal_and_vertical_lines(input_data: list[str]):\n",
    "    points = get_all_points(input_data)\n",
    "    lines = []\n",
    "    for point_a, point_b in points:\n",
    "        if point_a.x == point_b.x:\n",
    "            lines.append(get_line_by_x(point_a, point_b))\n",
    "        if point_a.y == point_b.y:\n",
    "            lines.append(get_line_by_y(point_a, point_b))\n",
    "    return lines\n",
    "\n",
    "def get_floor_mapping(size, lines):\n",
    "    floor = []\n",
    "    for _ in range(size+1):\n",
    "        floor.append([0] * (size+1))\n",
    "    for line in lines:\n",
    "        for point in line:\n",
    "            # assert point.x-1 <= size and point.y-1 <= size, f\"Point is out of scope: {point =} and {size =}\"\n",
    "            try:\n",
    "                floor[point.x - 1][point.y - 1] += 1\n",
    "            except IndexError:\n",
    "                print(f\"{point =}\")\n",
    "                raise\n",
    "    return floor\n",
    "\n",
    "\n",
    "def get_overlapped_lines(floor):\n",
    "    count = 0\n",
    "    for row in floor:\n",
    "        for point in row:\n",
    "            if point > 1:\n",
    "                count += 1\n",
    "    return count\n",
    "\n",
    "\n",
    "def get_number_of_overlapping_points(input_data):\n",
    "    max_size = get_max_size(input_data)\n",
    "    lines = get_horizontal_and_vertical_lines(input_data)\n",
    "\n",
    "    floor = get_floor_mapping(max_size, lines)\n",
    "\n",
    "    count = get_overlapped_lines(floor)\n",
    "\n",
    "    return count\n",
    "\n",
    "\n",
    "def test_get_number_of_overlapping_points():\n",
    "    input_data = get_test_input_data()\n",
    "    number_of_overlaps = get_number_of_overlapping_points(input_data)\n",
    "    expected_number_of_overlaps = 5\n",
    "    assert expected_number_of_overlaps == number_of_overlaps, f\"{number_of_overlaps = }, {expected_number_of_overlaps = }\"\n",
    "\n",
    "\n",
    "def get_all_lines(input_data: list[str]):\n",
    "    points = get_all_points(input_data)\n",
    "    lines = []\n",
    "\n",
    "    for point_a, point_b in points:\n",
    "        if point_a.x == point_b.x:\n",
    "            lines.append(get_line_by_x(point_a, point_b))\n",
    "        elif point_a.y == point_b.y:\n",
    "            lines.append(get_line_by_y(point_a, point_b))\n",
    "        else:\n",
    "            change_y = -1 if point_b.y < point_a.y else 1\n",
    "            change_x = -1 if point_b.x < point_a.x else 1\n",
    "            number_of_points_to_create = abs(point_a.x - point_b.x) + 1\n",
    "            lines.append(\n",
    "                [Point(point_a.x + change_x * increment, point_a.y + change_y * increment) for increment in\n",
    "                 range(number_of_points_to_create)]\n",
    "            )\n",
    "    return lines\n",
    "\n",
    "\n",
    "def get_number_of_overlapping_points_with_diagonal(input_data):\n",
    "    max_size = get_max_size(input_data)\n",
    "    lines = get_all_lines(input_data)\n",
    "\n",
    "    floor = get_floor_mapping(max_size, lines)\n",
    "\n",
    "    count = get_overlapped_lines(floor)\n",
    "\n",
    "    return count\n",
    "\n",
    "\n",
    "def test_get_number_of_overlapping_points_with_diagonal():\n",
    "    input_data = get_test_input_data()\n",
    "    number_of_overlaps = get_number_of_overlapping_points_with_diagonal(input_data)\n",
    "    expected_number_of_overlaps = 12\n",
    "    assert expected_number_of_overlaps == number_of_overlaps, f\"{number_of_overlaps = }, {expected_number_of_overlaps = }\"\n",
    "\n",
    "\n",
    "test_get_number_of_overlapping_points_with_diagonal()"
   ],
   "metadata": {
    "collapsed": false,
    "pycharm": {
     "name": "#%%\n"
    }
   }
  },
  {
   "cell_type": "code",
   "execution_count": 13,
   "outputs": [
    {
     "data": {
      "text/plain": "22116"
     },
     "execution_count": 13,
     "metadata": {},
     "output_type": "execute_result"
    }
   ],
   "source": [
    "get_number_of_overlapping_points_with_diagonal(get_input_data())"
   ],
   "metadata": {
    "collapsed": false,
    "pycharm": {
     "name": "#%%\n"
    }
   }
  }
 ],
 "metadata": {
  "kernelspec": {
   "display_name": "Python 3",
   "language": "python",
   "name": "python3"
  },
  "language_info": {
   "codemirror_mode": {
    "name": "ipython",
    "version": 2
   },
   "file_extension": ".py",
   "mimetype": "text/x-python",
   "name": "python",
   "nbconvert_exporter": "python",
   "pygments_lexer": "ipython2",
   "version": "2.7.6"
  }
 },
 "nbformat": 4,
 "nbformat_minor": 0
}