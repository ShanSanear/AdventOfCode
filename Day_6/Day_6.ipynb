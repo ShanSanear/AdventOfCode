{
 "cells": [
  {
   "cell_type": "code",
   "execution_count": 18,
   "metadata": {
    "collapsed": true
   },
   "outputs": [],
   "source": [
    "from pathlib import Path\n",
    "\n",
    "def get_input_data():\n",
    "    input_file = Path(r\"M:\\Python\\Projects\\AdventOfCode\\Day_6\\Day_6_input.txt\")\n",
    "    return [int(val) for val in input_file.read_text().strip().split(',')]\n",
    "\n",
    "\n",
    "def get_test_input_data():\n",
    "    return [3, 4, 3, 1, 2]"
   ]
  },
  {
   "cell_type": "markdown",
   "source": [],
   "metadata": {
    "collapsed": false
   }
  },
  {
   "cell_type": "code",
   "execution_count": 35,
   "outputs": [],
   "source": [
    "def get_fish_count(input_data: list[int], number_of_days: int):\n",
    "    \"\"\"\n",
    "    Done thanks to help of one colleague\n",
    "    \"\"\"\n",
    "    fish_mapping = {number : input_data.count(number) for number in input_data}\n",
    "    for _ in range(number_of_days):\n",
    "        new_mapping = dict(zip(range(0, 9), [0] * 9, strict=True))\n",
    "        for days_to_change, number_of_fish in fish_mapping.items():\n",
    "            if days_to_change == 0:\n",
    "                new_mapping[6] += number_of_fish\n",
    "                new_mapping[8] += number_of_fish\n",
    "            else:\n",
    "                new_mapping[days_to_change-1] += number_of_fish\n",
    "        fish_mapping = new_mapping\n",
    "    return sum(fish_mapping.values())\n",
    "\n",
    "\n",
    "def test_get_fish_count():\n",
    "    input_data = get_test_input_data()\n",
    "    expected_number_of_fish = 5934\n",
    "    number_of_fish = get_fish_count(input_data, number_of_days=80)\n",
    "    assert expected_number_of_fish == number_of_fish, f\"{expected_number_of_fish = }  {number_of_fish = }\"\n",
    "\n",
    "\n",
    "test_get_fish_count()"
   ],
   "metadata": {
    "collapsed": false,
    "pycharm": {
     "name": "#%%\n"
    }
   }
  },
  {
   "cell_type": "code",
   "execution_count": 20,
   "outputs": [
    {
     "data": {
      "text/plain": "386536"
     },
     "execution_count": 20,
     "metadata": {},
     "output_type": "execute_result"
    }
   ],
   "source": [
    "get_fish_count(get_input_data(), number_of_days=80)"
   ],
   "metadata": {
    "collapsed": false,
    "pycharm": {
     "name": "#%%\n"
    }
   }
  },
  {
   "cell_type": "code",
   "execution_count": 37,
   "outputs": [],
   "source": [
    "def test_get_lanternfish_count_big():\n",
    "    input_data = get_test_input_data()\n",
    "    expected_number_of_fish = 26984457539\n",
    "    number_of_fish = get_fish_count(input_data, number_of_days=256)\n",
    "    assert expected_number_of_fish == number_of_fish, f\"{expected_number_of_fish = }  {number_of_fish = }\"\n",
    "test_get_lanternfish_count_big()"
   ],
   "metadata": {
    "collapsed": false,
    "pycharm": {
     "name": "#%%\n"
    }
   }
  },
  {
   "cell_type": "code",
   "execution_count": 39,
   "outputs": [
    {
     "data": {
      "text/plain": "1732821262171"
     },
     "execution_count": 39,
     "metadata": {},
     "output_type": "execute_result"
    }
   ],
   "source": [
    "get_fish_count(get_input_data(), number_of_days=256)"
   ],
   "metadata": {
    "collapsed": false,
    "pycharm": {
     "name": "#%%\n"
    }
   }
  }
 ],
 "metadata": {
  "kernelspec": {
   "display_name": "Python 3",
   "language": "python",
   "name": "python3"
  },
  "language_info": {
   "codemirror_mode": {
    "name": "ipython",
    "version": 2
   },
   "file_extension": ".py",
   "mimetype": "text/x-python",
   "name": "python",
   "nbconvert_exporter": "python",
   "pygments_lexer": "ipython2",
   "version": "2.7.6"
  }
 },
 "nbformat": 4,
 "nbformat_minor": 0
}